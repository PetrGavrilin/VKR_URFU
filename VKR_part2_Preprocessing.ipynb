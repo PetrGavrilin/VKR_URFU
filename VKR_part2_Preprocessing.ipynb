{
  "cells": [
    {
      "cell_type": "markdown",
      "metadata": {
        "id": "view-in-github",
        "colab_type": "text"
      },
      "source": [
        "<a href=\"https://colab.research.google.com/github/PetrGavrilin/VKR_URFU/blob/main/VKR_part2_Preprocessing.ipynb\" target=\"_parent\"><img src=\"https://colab.research.google.com/assets/colab-badge.svg\" alt=\"Open In Colab\"/></a>"
      ]
    },
    {
      "cell_type": "markdown",
      "metadata": {
        "id": "vLwZ3ndmVVQD"
      },
      "source": [
        "<h1>Подготовка данных</h1>"
      ]
    },
    {
      "cell_type": "code",
      "execution_count": 1,
      "metadata": {
        "id": "qEbT5fWTo1Uw"
      },
      "outputs": [],
      "source": [
        "try:\n",
        "  import tsfel\n",
        "except:\n",
        "  !pip install tsfel >/dev/null 2>&1\n",
        "  import tsfel"
      ]
    },
    {
      "cell_type": "code",
      "execution_count": 2,
      "metadata": {
        "id": "EgNSqVVJVXS6"
      },
      "outputs": [],
      "source": [
        "# импорт необходимых библиотек\n",
        "import pandas as pd\n",
        "import numpy as np\n",
        "from scipy.signal import savgol_filter"
      ]
    },
    {
      "cell_type": "code",
      "source": [
        "import sys\n",
        "sys.path.append('/content')\n",
        "\n",
        "from vkr_function import my_features_extraction"
      ],
      "metadata": {
        "id": "Iwed62SgOvyh"
      },
      "execution_count": 3,
      "outputs": []
    },
    {
      "cell_type": "code",
      "source": [
        "#Y = pd.read_csv('/content/flow_rate.csv')\n",
        "sig_up = pd.read_csv('/content/sig_up.csv')\n",
        "sig_dw = pd.read_csv('/content/sig_dw.csv')\n",
        "#borders = pd.read_csv('/content/borders.csv').values.tolist()[0]"
      ],
      "metadata": {
        "id": "wfH8Fj6lVUbz"
      },
      "execution_count": 4,
      "outputs": []
    },
    {
      "cell_type": "code",
      "source": [
        "nX_up = my_features_extraction(sig_up)"
      ],
      "metadata": {
        "colab": {
          "base_uri": "https://localhost:8080/",
          "height": 157
        },
        "id": "pHUh_9vLREfO",
        "outputId": "012e3052-f735-4dda-ab72-ba31f8806ca5"
      },
      "execution_count": 5,
      "outputs": [
        {
          "output_type": "stream",
          "name": "stdout",
          "text": [
            "*** Feature extraction started ***\n"
          ]
        },
        {
          "output_type": "stream",
          "name": "stderr",
          "text": [
            "/content/vkr_function.py:79: UserWarning: Using default sampling frequency set in configuration file.\n",
            "  X = tsfel.time_series_features_extractor(cfg_file, s)\n"
          ]
        },
        {
          "output_type": "display_data",
          "data": {
            "text/plain": [
              "<IPython.core.display.HTML object>"
            ],
            "text/html": [
              "\n",
              "              <p>\n",
              "                  Progress: 100% Complete\n",
              "              <p/>\n",
              "              <progress\n",
              "                  value='3915'\n",
              "                  max='3915',\n",
              "                  style='width: 25%',\n",
              "              >\n",
              "                  3915\n",
              "              </progress>\n",
              "\n",
              "    "
            ]
          },
          "metadata": {}
        },
        {
          "output_type": "stream",
          "name": "stdout",
          "text": [
            "\n",
            "*** Feature extraction finished ***\n"
          ]
        }
      ]
    },
    {
      "cell_type": "code",
      "source": [
        "nX_dw = my_features_extraction(sig_dw)"
      ],
      "metadata": {
        "colab": {
          "base_uri": "https://localhost:8080/",
          "height": 157
        },
        "id": "eadmdFIHRWKS",
        "outputId": "2d5f3efb-334c-4e05-f01b-dde77ddc60a7"
      },
      "execution_count": 6,
      "outputs": [
        {
          "output_type": "stream",
          "name": "stdout",
          "text": [
            "*** Feature extraction started ***\n"
          ]
        },
        {
          "output_type": "stream",
          "name": "stderr",
          "text": [
            "/content/vkr_function.py:79: UserWarning: Using default sampling frequency set in configuration file.\n",
            "  X = tsfel.time_series_features_extractor(cfg_file, s)\n"
          ]
        },
        {
          "output_type": "display_data",
          "data": {
            "text/plain": [
              "<IPython.core.display.HTML object>"
            ],
            "text/html": [
              "\n",
              "              <p>\n",
              "                  Progress: 100% Complete\n",
              "              <p/>\n",
              "              <progress\n",
              "                  value='3915'\n",
              "                  max='3915',\n",
              "                  style='width: 25%',\n",
              "              >\n",
              "                  3915\n",
              "              </progress>\n",
              "\n",
              "    "
            ]
          },
          "metadata": {}
        },
        {
          "output_type": "stream",
          "name": "stdout",
          "text": [
            "\n",
            "*** Feature extraction finished ***\n"
          ]
        }
      ]
    },
    {
      "cell_type": "code",
      "source": [
        "print(len(nX_up[0]))\n",
        "print(len(nX_dw[0]))"
      ],
      "metadata": {
        "colab": {
          "base_uri": "https://localhost:8080/"
        },
        "id": "-fJ_FjgOUfWo",
        "outputId": "30442f87-d05a-44e2-e0ba-c7fb28db51f2"
      },
      "execution_count": 7,
      "outputs": [
        {
          "output_type": "stream",
          "name": "stdout",
          "text": [
            "305\n",
            "311\n"
          ]
        }
      ]
    },
    {
      "cell_type": "code",
      "source": [
        "X = np.hstack([nX_up, nX_dw])\n",
        "#Y = np.array(Y['Et'])"
      ],
      "metadata": {
        "id": "XfbGj3iPW3sD"
      },
      "execution_count": 9,
      "outputs": []
    },
    {
      "cell_type": "code",
      "source": [
        "#X.tofile('X_tsfel.csv',sep=',')\n",
        "\n",
        "X_tsfel = pd.DataFrame(np.array(X))\n",
        "X_tsfel.to_csv('/content/X_tsfel.csv', index=False)"
      ],
      "metadata": {
        "id": "GmhdwtHylabv"
      },
      "execution_count": 10,
      "outputs": []
    },
    {
      "cell_type": "markdown",
      "source": [
        "Обучение модели на дополнительно обработанных данных с помощью функции Савицкого-Голея"
      ],
      "metadata": {
        "id": "xfzMV-Yu5iCZ"
      }
    },
    {
      "cell_type": "code",
      "source": [
        "sig_up_sg = sig_up.apply(lambda x: savgol_filter(x,30,4), axis=0) # сглаженные сигналы 1-го пьезоэлектрического датчика\n",
        "sig_dw_sg = sig_dw.apply(lambda x: savgol_filter(x,30,4), axis=0) # сглаженные сигналы 2-го пьезоэлектрического датчика"
      ],
      "metadata": {
        "id": "_TFAejFeuIXv"
      },
      "execution_count": 11,
      "outputs": []
    },
    {
      "cell_type": "code",
      "source": [
        "nX_up = my_features_extraction(sig_up_sg)"
      ],
      "metadata": {
        "id": "JHJB-DTkvMnH",
        "colab": {
          "base_uri": "https://localhost:8080/",
          "height": 157
        },
        "outputId": "380dbd98-da8b-48d2-fdd6-c6f92eac0788"
      },
      "execution_count": 12,
      "outputs": [
        {
          "output_type": "stream",
          "name": "stdout",
          "text": [
            "*** Feature extraction started ***\n"
          ]
        },
        {
          "output_type": "stream",
          "name": "stderr",
          "text": [
            "/content/vkr_function.py:79: UserWarning: Using default sampling frequency set in configuration file.\n",
            "  X = tsfel.time_series_features_extractor(cfg_file, s)\n"
          ]
        },
        {
          "output_type": "display_data",
          "data": {
            "text/plain": [
              "<IPython.core.display.HTML object>"
            ],
            "text/html": [
              "\n",
              "              <p>\n",
              "                  Progress: 100% Complete\n",
              "              <p/>\n",
              "              <progress\n",
              "                  value='3915'\n",
              "                  max='3915',\n",
              "                  style='width: 25%',\n",
              "              >\n",
              "                  3915\n",
              "              </progress>\n",
              "\n",
              "    "
            ]
          },
          "metadata": {}
        },
        {
          "output_type": "stream",
          "name": "stdout",
          "text": [
            "\n",
            "*** Feature extraction finished ***\n"
          ]
        }
      ]
    },
    {
      "cell_type": "code",
      "source": [
        "nX_dw = my_features_extraction(sig_dw_sg)"
      ],
      "metadata": {
        "colab": {
          "base_uri": "https://localhost:8080/",
          "height": 157
        },
        "id": "vvOneCINUV-3",
        "outputId": "33da8986-4ed5-4aeb-8f71-f03ebb1bd6ea"
      },
      "execution_count": 13,
      "outputs": [
        {
          "output_type": "stream",
          "name": "stdout",
          "text": [
            "*** Feature extraction started ***\n"
          ]
        },
        {
          "output_type": "stream",
          "name": "stderr",
          "text": [
            "/content/vkr_function.py:79: UserWarning: Using default sampling frequency set in configuration file.\n",
            "  X = tsfel.time_series_features_extractor(cfg_file, s)\n"
          ]
        },
        {
          "output_type": "display_data",
          "data": {
            "text/plain": [
              "<IPython.core.display.HTML object>"
            ],
            "text/html": [
              "\n",
              "              <p>\n",
              "                  Progress: 100% Complete\n",
              "              <p/>\n",
              "              <progress\n",
              "                  value='3915'\n",
              "                  max='3915',\n",
              "                  style='width: 25%',\n",
              "              >\n",
              "                  3915\n",
              "              </progress>\n",
              "\n",
              "    "
            ]
          },
          "metadata": {}
        },
        {
          "output_type": "stream",
          "name": "stdout",
          "text": [
            "\n",
            "*** Feature extraction finished ***\n"
          ]
        }
      ]
    },
    {
      "cell_type": "code",
      "source": [
        "print(len(nX_up[0]))\n",
        "print(len(nX_dw[0]))"
      ],
      "metadata": {
        "colab": {
          "base_uri": "https://localhost:8080/"
        },
        "id": "SWPvNXQSsGEk",
        "outputId": "5a8ca76b-8924-4d67-9e5c-46b22d278633"
      },
      "execution_count": 14,
      "outputs": [
        {
          "output_type": "stream",
          "name": "stdout",
          "text": [
            "235\n",
            "271\n"
          ]
        }
      ]
    },
    {
      "cell_type": "markdown",
      "source": [
        "Осталось гораздо меньше признаков, чем без применения сглаживания"
      ],
      "metadata": {
        "id": "Zn5aJPm66Hr_"
      }
    },
    {
      "cell_type": "code",
      "source": [
        "X = np.hstack([nX_up, nX_dw])"
      ],
      "metadata": {
        "id": "WxrHI4Dswdko"
      },
      "execution_count": 15,
      "outputs": []
    },
    {
      "cell_type": "code",
      "source": [
        "#X.tofile('X_tsfel_savgol.csv',sep=',')\n",
        "\n",
        "X_tsfel_savgol = pd.DataFrame(X)\n",
        "X_tsfel_savgol.to_csv('/content/X_tsfel_savgol.csv', index=False)"
      ],
      "metadata": {
        "id": "iYYIV4CfmO4R"
      },
      "execution_count": 16,
      "outputs": []
    },
    {
      "cell_type": "markdown",
      "source": [
        "Данные, предварительно обработанные по скользящему среднему"
      ],
      "metadata": {
        "id": "5YiFjp36t8Du"
      }
    },
    {
      "cell_type": "code",
      "source": [
        "sig_up_rol = sig_up.rolling(30, min_periods=1, axis=0).sum() # скользящее среднее сигналов 1-го пьезоэлектрического датчика\n",
        "sig_dw_rol = sig_dw.rolling(30, min_periods=1, axis=0).sum() # скользящее среднее сигналов 2-го пьезоэлектрического датчика\n",
        "sig_up_rol"
      ],
      "metadata": {
        "id": "6pkCw7zDGVJM",
        "outputId": "b3e58e5b-d100-462a-8cd2-aa419bbb2642",
        "colab": {
          "base_uri": "https://localhost:8080/",
          "height": 444
        }
      },
      "execution_count": 26,
      "outputs": [
        {
          "output_type": "execute_result",
          "data": {
            "text/plain": [
              "                 0           1             2            3            4  \\\n",
              "0      -485.815430   97.485352    485.815430  -103.930664    -7.250977   \n",
              "1      -857.226563  219.140625    721.069336  -250.561523   -52.368164   \n",
              "2     -1463.085938  -74.121094    647.753906   355.297852   506.762695   \n",
              "3     -2015.771484 -374.633789    533.349609   864.477539  1187.548828   \n",
              "4     -2586.987305 -724.291992    605.053711  1435.693359  1614.550781   \n",
              "...            ...         ...           ...          ...          ...   \n",
              "3910 -19242.480469  589.746094  -9821.850586 -4983.837891  1802.270508   \n",
              "3911 -19196.154785  636.877441  -9886.706543 -4822.302246  1953.332520   \n",
              "3912 -19348.022461  200.610352 -10407.568359 -5044.262695  2122.119141   \n",
              "3913 -19109.948730  378.259277 -10064.758301 -4741.735840  2474.597168   \n",
              "3914 -19437.854004  -98.693848 -10549.768066 -4966.516113  2564.025879   \n",
              "\n",
              "                 5             6             7             8            9  \\\n",
              "0      -154.687500   -274.731445   -144.213867    167.578125   310.986328   \n",
              "1      -248.950195   -332.739258   -261.840820     29.809570   219.140625   \n",
              "2      -849.169922   -775.854492   -597.802734      6.445312   800.830078   \n",
              "3     -1529.956055  -1278.588867   -963.574219    -50.756836  1373.657227   \n",
              "4     -2086.669922  -1715.258789  -1313.232422    -20.947266  1931.982422   \n",
              "...            ...           ...           ...           ...          ...   \n",
              "3910  13665.673828  -9791.235352 -14051.586914 -12460.400391 -8647.998047   \n",
              "3911  13619.348145  -9773.913574 -14093.078613 -12344.787598 -8664.514160   \n",
              "3912  14454.418945 -10077.246094 -14472.143555 -12615.893555 -9023.437500   \n",
              "3913  13982.702637  -9751.354980 -14282.409668 -12278.723145 -8784.558105   \n",
              "3914  14868.933105 -10150.964355 -14818.176270 -12704.919434 -9017.395020   \n",
              "\n",
              "      ...          502          503          504          505          506  \\\n",
              "0     ...    19.335938   -63.647461     1.611328   -43.505859   -40.283203   \n",
              "1     ...   -38.671875  -112.792969   -82.983398   -90.234375  -136.157227   \n",
              "2     ...  -166.772461  -232.836914  -203.833008  -188.525391  -309.375000   \n",
              "3     ...  -288.427734  -374.633789  -376.245117  -285.205078  -489.843750   \n",
              "4     ...  -328.710938  -528.515625  -480.981445  -381.079102  -593.774414   \n",
              "...   ...          ...          ...          ...          ...          ...   \n",
              "3910  ... -4665.600586 -3918.750000 -5384.252930 -7628.833008 -7524.902344   \n",
              "3911  ... -4608.801270 -3879.675293 -5371.765137 -7580.895996 -7446.350098   \n",
              "3912  ... -4804.174805 -4100.830078 -5557.470703 -7745.654297 -7628.833008   \n",
              "3913  ... -4555.627441 -3890.148926 -5369.348145 -7516.442871 -7371.423340   \n",
              "3914  ... -4790.075684 -4147.155762 -5623.937988 -7737.194824 -7659.045410   \n",
              "\n",
              "              507          508          509          510          511  \n",
              "0     -138.574219   -64.453125   -70.092773    71.704102    73.315430  \n",
              "1     -271.508789  -225.585938  -176.440430    74.926758   124.072266  \n",
              "2     -468.896484  -430.224609  -295.678711    12.890625   131.323242  \n",
              "3     -655.810547  -665.478516  -435.864258   -40.283203   150.659180  \n",
              "4     -865.283203  -865.283203  -571.215820   -25.781250   140.991211  \n",
              "...           ...          ...          ...          ...          ...  \n",
              "3910 -5924.047852 -5456.762695 -6203.613281 -7226.000977 -6160.913086  \n",
              "3911 -5897.863770 -5454.748535 -6158.898926 -7174.841309 -6125.866699  \n",
              "3912 -6118.212891 -5627.563477 -6312.377930 -7375.048828 -6342.993164  \n",
              "3913 -5897.058105 -5408.825684 -6130.700684 -7133.752441 -6111.364746  \n",
              "3914 -6089.611816 -5672.277832 -6326.477051 -7372.229004 -6324.865723  \n",
              "\n",
              "[3915 rows x 512 columns]"
            ],
            "text/html": [
              "\n",
              "  <div id=\"df-37a0714d-02a8-4e4d-9ebe-917bf6591a56\" class=\"colab-df-container\">\n",
              "    <div>\n",
              "<style scoped>\n",
              "    .dataframe tbody tr th:only-of-type {\n",
              "        vertical-align: middle;\n",
              "    }\n",
              "\n",
              "    .dataframe tbody tr th {\n",
              "        vertical-align: top;\n",
              "    }\n",
              "\n",
              "    .dataframe thead th {\n",
              "        text-align: right;\n",
              "    }\n",
              "</style>\n",
              "<table border=\"1\" class=\"dataframe\">\n",
              "  <thead>\n",
              "    <tr style=\"text-align: right;\">\n",
              "      <th></th>\n",
              "      <th>0</th>\n",
              "      <th>1</th>\n",
              "      <th>2</th>\n",
              "      <th>3</th>\n",
              "      <th>4</th>\n",
              "      <th>5</th>\n",
              "      <th>6</th>\n",
              "      <th>7</th>\n",
              "      <th>8</th>\n",
              "      <th>9</th>\n",
              "      <th>...</th>\n",
              "      <th>502</th>\n",
              "      <th>503</th>\n",
              "      <th>504</th>\n",
              "      <th>505</th>\n",
              "      <th>506</th>\n",
              "      <th>507</th>\n",
              "      <th>508</th>\n",
              "      <th>509</th>\n",
              "      <th>510</th>\n",
              "      <th>511</th>\n",
              "    </tr>\n",
              "  </thead>\n",
              "  <tbody>\n",
              "    <tr>\n",
              "      <th>0</th>\n",
              "      <td>-485.815430</td>\n",
              "      <td>97.485352</td>\n",
              "      <td>485.815430</td>\n",
              "      <td>-103.930664</td>\n",
              "      <td>-7.250977</td>\n",
              "      <td>-154.687500</td>\n",
              "      <td>-274.731445</td>\n",
              "      <td>-144.213867</td>\n",
              "      <td>167.578125</td>\n",
              "      <td>310.986328</td>\n",
              "      <td>...</td>\n",
              "      <td>19.335938</td>\n",
              "      <td>-63.647461</td>\n",
              "      <td>1.611328</td>\n",
              "      <td>-43.505859</td>\n",
              "      <td>-40.283203</td>\n",
              "      <td>-138.574219</td>\n",
              "      <td>-64.453125</td>\n",
              "      <td>-70.092773</td>\n",
              "      <td>71.704102</td>\n",
              "      <td>73.315430</td>\n",
              "    </tr>\n",
              "    <tr>\n",
              "      <th>1</th>\n",
              "      <td>-857.226563</td>\n",
              "      <td>219.140625</td>\n",
              "      <td>721.069336</td>\n",
              "      <td>-250.561523</td>\n",
              "      <td>-52.368164</td>\n",
              "      <td>-248.950195</td>\n",
              "      <td>-332.739258</td>\n",
              "      <td>-261.840820</td>\n",
              "      <td>29.809570</td>\n",
              "      <td>219.140625</td>\n",
              "      <td>...</td>\n",
              "      <td>-38.671875</td>\n",
              "      <td>-112.792969</td>\n",
              "      <td>-82.983398</td>\n",
              "      <td>-90.234375</td>\n",
              "      <td>-136.157227</td>\n",
              "      <td>-271.508789</td>\n",
              "      <td>-225.585938</td>\n",
              "      <td>-176.440430</td>\n",
              "      <td>74.926758</td>\n",
              "      <td>124.072266</td>\n",
              "    </tr>\n",
              "    <tr>\n",
              "      <th>2</th>\n",
              "      <td>-1463.085938</td>\n",
              "      <td>-74.121094</td>\n",
              "      <td>647.753906</td>\n",
              "      <td>355.297852</td>\n",
              "      <td>506.762695</td>\n",
              "      <td>-849.169922</td>\n",
              "      <td>-775.854492</td>\n",
              "      <td>-597.802734</td>\n",
              "      <td>6.445312</td>\n",
              "      <td>800.830078</td>\n",
              "      <td>...</td>\n",
              "      <td>-166.772461</td>\n",
              "      <td>-232.836914</td>\n",
              "      <td>-203.833008</td>\n",
              "      <td>-188.525391</td>\n",
              "      <td>-309.375000</td>\n",
              "      <td>-468.896484</td>\n",
              "      <td>-430.224609</td>\n",
              "      <td>-295.678711</td>\n",
              "      <td>12.890625</td>\n",
              "      <td>131.323242</td>\n",
              "    </tr>\n",
              "    <tr>\n",
              "      <th>3</th>\n",
              "      <td>-2015.771484</td>\n",
              "      <td>-374.633789</td>\n",
              "      <td>533.349609</td>\n",
              "      <td>864.477539</td>\n",
              "      <td>1187.548828</td>\n",
              "      <td>-1529.956055</td>\n",
              "      <td>-1278.588867</td>\n",
              "      <td>-963.574219</td>\n",
              "      <td>-50.756836</td>\n",
              "      <td>1373.657227</td>\n",
              "      <td>...</td>\n",
              "      <td>-288.427734</td>\n",
              "      <td>-374.633789</td>\n",
              "      <td>-376.245117</td>\n",
              "      <td>-285.205078</td>\n",
              "      <td>-489.843750</td>\n",
              "      <td>-655.810547</td>\n",
              "      <td>-665.478516</td>\n",
              "      <td>-435.864258</td>\n",
              "      <td>-40.283203</td>\n",
              "      <td>150.659180</td>\n",
              "    </tr>\n",
              "    <tr>\n",
              "      <th>4</th>\n",
              "      <td>-2586.987305</td>\n",
              "      <td>-724.291992</td>\n",
              "      <td>605.053711</td>\n",
              "      <td>1435.693359</td>\n",
              "      <td>1614.550781</td>\n",
              "      <td>-2086.669922</td>\n",
              "      <td>-1715.258789</td>\n",
              "      <td>-1313.232422</td>\n",
              "      <td>-20.947266</td>\n",
              "      <td>1931.982422</td>\n",
              "      <td>...</td>\n",
              "      <td>-328.710938</td>\n",
              "      <td>-528.515625</td>\n",
              "      <td>-480.981445</td>\n",
              "      <td>-381.079102</td>\n",
              "      <td>-593.774414</td>\n",
              "      <td>-865.283203</td>\n",
              "      <td>-865.283203</td>\n",
              "      <td>-571.215820</td>\n",
              "      <td>-25.781250</td>\n",
              "      <td>140.991211</td>\n",
              "    </tr>\n",
              "    <tr>\n",
              "      <th>...</th>\n",
              "      <td>...</td>\n",
              "      <td>...</td>\n",
              "      <td>...</td>\n",
              "      <td>...</td>\n",
              "      <td>...</td>\n",
              "      <td>...</td>\n",
              "      <td>...</td>\n",
              "      <td>...</td>\n",
              "      <td>...</td>\n",
              "      <td>...</td>\n",
              "      <td>...</td>\n",
              "      <td>...</td>\n",
              "      <td>...</td>\n",
              "      <td>...</td>\n",
              "      <td>...</td>\n",
              "      <td>...</td>\n",
              "      <td>...</td>\n",
              "      <td>...</td>\n",
              "      <td>...</td>\n",
              "      <td>...</td>\n",
              "      <td>...</td>\n",
              "    </tr>\n",
              "    <tr>\n",
              "      <th>3910</th>\n",
              "      <td>-19242.480469</td>\n",
              "      <td>589.746094</td>\n",
              "      <td>-9821.850586</td>\n",
              "      <td>-4983.837891</td>\n",
              "      <td>1802.270508</td>\n",
              "      <td>13665.673828</td>\n",
              "      <td>-9791.235352</td>\n",
              "      <td>-14051.586914</td>\n",
              "      <td>-12460.400391</td>\n",
              "      <td>-8647.998047</td>\n",
              "      <td>...</td>\n",
              "      <td>-4665.600586</td>\n",
              "      <td>-3918.750000</td>\n",
              "      <td>-5384.252930</td>\n",
              "      <td>-7628.833008</td>\n",
              "      <td>-7524.902344</td>\n",
              "      <td>-5924.047852</td>\n",
              "      <td>-5456.762695</td>\n",
              "      <td>-6203.613281</td>\n",
              "      <td>-7226.000977</td>\n",
              "      <td>-6160.913086</td>\n",
              "    </tr>\n",
              "    <tr>\n",
              "      <th>3911</th>\n",
              "      <td>-19196.154785</td>\n",
              "      <td>636.877441</td>\n",
              "      <td>-9886.706543</td>\n",
              "      <td>-4822.302246</td>\n",
              "      <td>1953.332520</td>\n",
              "      <td>13619.348145</td>\n",
              "      <td>-9773.913574</td>\n",
              "      <td>-14093.078613</td>\n",
              "      <td>-12344.787598</td>\n",
              "      <td>-8664.514160</td>\n",
              "      <td>...</td>\n",
              "      <td>-4608.801270</td>\n",
              "      <td>-3879.675293</td>\n",
              "      <td>-5371.765137</td>\n",
              "      <td>-7580.895996</td>\n",
              "      <td>-7446.350098</td>\n",
              "      <td>-5897.863770</td>\n",
              "      <td>-5454.748535</td>\n",
              "      <td>-6158.898926</td>\n",
              "      <td>-7174.841309</td>\n",
              "      <td>-6125.866699</td>\n",
              "    </tr>\n",
              "    <tr>\n",
              "      <th>3912</th>\n",
              "      <td>-19348.022461</td>\n",
              "      <td>200.610352</td>\n",
              "      <td>-10407.568359</td>\n",
              "      <td>-5044.262695</td>\n",
              "      <td>2122.119141</td>\n",
              "      <td>14454.418945</td>\n",
              "      <td>-10077.246094</td>\n",
              "      <td>-14472.143555</td>\n",
              "      <td>-12615.893555</td>\n",
              "      <td>-9023.437500</td>\n",
              "      <td>...</td>\n",
              "      <td>-4804.174805</td>\n",
              "      <td>-4100.830078</td>\n",
              "      <td>-5557.470703</td>\n",
              "      <td>-7745.654297</td>\n",
              "      <td>-7628.833008</td>\n",
              "      <td>-6118.212891</td>\n",
              "      <td>-5627.563477</td>\n",
              "      <td>-6312.377930</td>\n",
              "      <td>-7375.048828</td>\n",
              "      <td>-6342.993164</td>\n",
              "    </tr>\n",
              "    <tr>\n",
              "      <th>3913</th>\n",
              "      <td>-19109.948730</td>\n",
              "      <td>378.259277</td>\n",
              "      <td>-10064.758301</td>\n",
              "      <td>-4741.735840</td>\n",
              "      <td>2474.597168</td>\n",
              "      <td>13982.702637</td>\n",
              "      <td>-9751.354980</td>\n",
              "      <td>-14282.409668</td>\n",
              "      <td>-12278.723145</td>\n",
              "      <td>-8784.558105</td>\n",
              "      <td>...</td>\n",
              "      <td>-4555.627441</td>\n",
              "      <td>-3890.148926</td>\n",
              "      <td>-5369.348145</td>\n",
              "      <td>-7516.442871</td>\n",
              "      <td>-7371.423340</td>\n",
              "      <td>-5897.058105</td>\n",
              "      <td>-5408.825684</td>\n",
              "      <td>-6130.700684</td>\n",
              "      <td>-7133.752441</td>\n",
              "      <td>-6111.364746</td>\n",
              "    </tr>\n",
              "    <tr>\n",
              "      <th>3914</th>\n",
              "      <td>-19437.854004</td>\n",
              "      <td>-98.693848</td>\n",
              "      <td>-10549.768066</td>\n",
              "      <td>-4966.516113</td>\n",
              "      <td>2564.025879</td>\n",
              "      <td>14868.933105</td>\n",
              "      <td>-10150.964355</td>\n",
              "      <td>-14818.176270</td>\n",
              "      <td>-12704.919434</td>\n",
              "      <td>-9017.395020</td>\n",
              "      <td>...</td>\n",
              "      <td>-4790.075684</td>\n",
              "      <td>-4147.155762</td>\n",
              "      <td>-5623.937988</td>\n",
              "      <td>-7737.194824</td>\n",
              "      <td>-7659.045410</td>\n",
              "      <td>-6089.611816</td>\n",
              "      <td>-5672.277832</td>\n",
              "      <td>-6326.477051</td>\n",
              "      <td>-7372.229004</td>\n",
              "      <td>-6324.865723</td>\n",
              "    </tr>\n",
              "  </tbody>\n",
              "</table>\n",
              "<p>3915 rows × 512 columns</p>\n",
              "</div>\n",
              "    <div class=\"colab-df-buttons\">\n",
              "\n",
              "  <div class=\"colab-df-container\">\n",
              "    <button class=\"colab-df-convert\" onclick=\"convertToInteractive('df-37a0714d-02a8-4e4d-9ebe-917bf6591a56')\"\n",
              "            title=\"Convert this dataframe to an interactive table.\"\n",
              "            style=\"display:none;\">\n",
              "\n",
              "  <svg xmlns=\"http://www.w3.org/2000/svg\" height=\"24px\" viewBox=\"0 -960 960 960\">\n",
              "    <path d=\"M120-120v-720h720v720H120Zm60-500h600v-160H180v160Zm220 220h160v-160H400v160Zm0 220h160v-160H400v160ZM180-400h160v-160H180v160Zm440 0h160v-160H620v160ZM180-180h160v-160H180v160Zm440 0h160v-160H620v160Z\"/>\n",
              "  </svg>\n",
              "    </button>\n",
              "\n",
              "  <style>\n",
              "    .colab-df-container {\n",
              "      display:flex;\n",
              "      gap: 12px;\n",
              "    }\n",
              "\n",
              "    .colab-df-convert {\n",
              "      background-color: #E8F0FE;\n",
              "      border: none;\n",
              "      border-radius: 50%;\n",
              "      cursor: pointer;\n",
              "      display: none;\n",
              "      fill: #1967D2;\n",
              "      height: 32px;\n",
              "      padding: 0 0 0 0;\n",
              "      width: 32px;\n",
              "    }\n",
              "\n",
              "    .colab-df-convert:hover {\n",
              "      background-color: #E2EBFA;\n",
              "      box-shadow: 0px 1px 2px rgba(60, 64, 67, 0.3), 0px 1px 3px 1px rgba(60, 64, 67, 0.15);\n",
              "      fill: #174EA6;\n",
              "    }\n",
              "\n",
              "    .colab-df-buttons div {\n",
              "      margin-bottom: 4px;\n",
              "    }\n",
              "\n",
              "    [theme=dark] .colab-df-convert {\n",
              "      background-color: #3B4455;\n",
              "      fill: #D2E3FC;\n",
              "    }\n",
              "\n",
              "    [theme=dark] .colab-df-convert:hover {\n",
              "      background-color: #434B5C;\n",
              "      box-shadow: 0px 1px 3px 1px rgba(0, 0, 0, 0.15);\n",
              "      filter: drop-shadow(0px 1px 2px rgba(0, 0, 0, 0.3));\n",
              "      fill: #FFFFFF;\n",
              "    }\n",
              "  </style>\n",
              "\n",
              "    <script>\n",
              "      const buttonEl =\n",
              "        document.querySelector('#df-37a0714d-02a8-4e4d-9ebe-917bf6591a56 button.colab-df-convert');\n",
              "      buttonEl.style.display =\n",
              "        google.colab.kernel.accessAllowed ? 'block' : 'none';\n",
              "\n",
              "      async function convertToInteractive(key) {\n",
              "        const element = document.querySelector('#df-37a0714d-02a8-4e4d-9ebe-917bf6591a56');\n",
              "        const dataTable =\n",
              "          await google.colab.kernel.invokeFunction('convertToInteractive',\n",
              "                                                    [key], {});\n",
              "        if (!dataTable) return;\n",
              "\n",
              "        const docLinkHtml = 'Like what you see? Visit the ' +\n",
              "          '<a target=\"_blank\" href=https://colab.research.google.com/notebooks/data_table.ipynb>data table notebook</a>'\n",
              "          + ' to learn more about interactive tables.';\n",
              "        element.innerHTML = '';\n",
              "        dataTable['output_type'] = 'display_data';\n",
              "        await google.colab.output.renderOutput(dataTable, element);\n",
              "        const docLink = document.createElement('div');\n",
              "        docLink.innerHTML = docLinkHtml;\n",
              "        element.appendChild(docLink);\n",
              "      }\n",
              "    </script>\n",
              "  </div>\n",
              "\n",
              "\n",
              "<div id=\"df-c2a8e57d-4975-4a5d-8d9e-9168cbb6cb05\">\n",
              "  <button class=\"colab-df-quickchart\" onclick=\"quickchart('df-c2a8e57d-4975-4a5d-8d9e-9168cbb6cb05')\"\n",
              "            title=\"Suggest charts\"\n",
              "            style=\"display:none;\">\n",
              "\n",
              "<svg xmlns=\"http://www.w3.org/2000/svg\" height=\"24px\"viewBox=\"0 0 24 24\"\n",
              "     width=\"24px\">\n",
              "    <g>\n",
              "        <path d=\"M19 3H5c-1.1 0-2 .9-2 2v14c0 1.1.9 2 2 2h14c1.1 0 2-.9 2-2V5c0-1.1-.9-2-2-2zM9 17H7v-7h2v7zm4 0h-2V7h2v10zm4 0h-2v-4h2v4z\"/>\n",
              "    </g>\n",
              "</svg>\n",
              "  </button>\n",
              "\n",
              "<style>\n",
              "  .colab-df-quickchart {\n",
              "      --bg-color: #E8F0FE;\n",
              "      --fill-color: #1967D2;\n",
              "      --hover-bg-color: #E2EBFA;\n",
              "      --hover-fill-color: #174EA6;\n",
              "      --disabled-fill-color: #AAA;\n",
              "      --disabled-bg-color: #DDD;\n",
              "  }\n",
              "\n",
              "  [theme=dark] .colab-df-quickchart {\n",
              "      --bg-color: #3B4455;\n",
              "      --fill-color: #D2E3FC;\n",
              "      --hover-bg-color: #434B5C;\n",
              "      --hover-fill-color: #FFFFFF;\n",
              "      --disabled-bg-color: #3B4455;\n",
              "      --disabled-fill-color: #666;\n",
              "  }\n",
              "\n",
              "  .colab-df-quickchart {\n",
              "    background-color: var(--bg-color);\n",
              "    border: none;\n",
              "    border-radius: 50%;\n",
              "    cursor: pointer;\n",
              "    display: none;\n",
              "    fill: var(--fill-color);\n",
              "    height: 32px;\n",
              "    padding: 0;\n",
              "    width: 32px;\n",
              "  }\n",
              "\n",
              "  .colab-df-quickchart:hover {\n",
              "    background-color: var(--hover-bg-color);\n",
              "    box-shadow: 0 1px 2px rgba(60, 64, 67, 0.3), 0 1px 3px 1px rgba(60, 64, 67, 0.15);\n",
              "    fill: var(--button-hover-fill-color);\n",
              "  }\n",
              "\n",
              "  .colab-df-quickchart-complete:disabled,\n",
              "  .colab-df-quickchart-complete:disabled:hover {\n",
              "    background-color: var(--disabled-bg-color);\n",
              "    fill: var(--disabled-fill-color);\n",
              "    box-shadow: none;\n",
              "  }\n",
              "\n",
              "  .colab-df-spinner {\n",
              "    border: 2px solid var(--fill-color);\n",
              "    border-color: transparent;\n",
              "    border-bottom-color: var(--fill-color);\n",
              "    animation:\n",
              "      spin 1s steps(1) infinite;\n",
              "  }\n",
              "\n",
              "  @keyframes spin {\n",
              "    0% {\n",
              "      border-color: transparent;\n",
              "      border-bottom-color: var(--fill-color);\n",
              "      border-left-color: var(--fill-color);\n",
              "    }\n",
              "    20% {\n",
              "      border-color: transparent;\n",
              "      border-left-color: var(--fill-color);\n",
              "      border-top-color: var(--fill-color);\n",
              "    }\n",
              "    30% {\n",
              "      border-color: transparent;\n",
              "      border-left-color: var(--fill-color);\n",
              "      border-top-color: var(--fill-color);\n",
              "      border-right-color: var(--fill-color);\n",
              "    }\n",
              "    40% {\n",
              "      border-color: transparent;\n",
              "      border-right-color: var(--fill-color);\n",
              "      border-top-color: var(--fill-color);\n",
              "    }\n",
              "    60% {\n",
              "      border-color: transparent;\n",
              "      border-right-color: var(--fill-color);\n",
              "    }\n",
              "    80% {\n",
              "      border-color: transparent;\n",
              "      border-right-color: var(--fill-color);\n",
              "      border-bottom-color: var(--fill-color);\n",
              "    }\n",
              "    90% {\n",
              "      border-color: transparent;\n",
              "      border-bottom-color: var(--fill-color);\n",
              "    }\n",
              "  }\n",
              "</style>\n",
              "\n",
              "  <script>\n",
              "    async function quickchart(key) {\n",
              "      const quickchartButtonEl =\n",
              "        document.querySelector('#' + key + ' button');\n",
              "      quickchartButtonEl.disabled = true;  // To prevent multiple clicks.\n",
              "      quickchartButtonEl.classList.add('colab-df-spinner');\n",
              "      try {\n",
              "        const charts = await google.colab.kernel.invokeFunction(\n",
              "            'suggestCharts', [key], {});\n",
              "      } catch (error) {\n",
              "        console.error('Error during call to suggestCharts:', error);\n",
              "      }\n",
              "      quickchartButtonEl.classList.remove('colab-df-spinner');\n",
              "      quickchartButtonEl.classList.add('colab-df-quickchart-complete');\n",
              "    }\n",
              "    (() => {\n",
              "      let quickchartButtonEl =\n",
              "        document.querySelector('#df-c2a8e57d-4975-4a5d-8d9e-9168cbb6cb05 button');\n",
              "      quickchartButtonEl.style.display =\n",
              "        google.colab.kernel.accessAllowed ? 'block' : 'none';\n",
              "    })();\n",
              "  </script>\n",
              "</div>\n",
              "    </div>\n",
              "  </div>\n"
            ],
            "application/vnd.google.colaboratory.intrinsic+json": {
              "type": "dataframe",
              "variable_name": "sig_up_rol"
            }
          },
          "metadata": {},
          "execution_count": 26
        }
      ]
    },
    {
      "cell_type": "code",
      "source": [
        "nX_up = my_features_extraction(sig_up_rol)"
      ],
      "metadata": {
        "id": "vdZwevMvusNg",
        "outputId": "2fac64de-c59b-49a6-b91f-b4d92d25f711",
        "colab": {
          "base_uri": "https://localhost:8080/",
          "height": 157
        }
      },
      "execution_count": 27,
      "outputs": [
        {
          "output_type": "stream",
          "name": "stdout",
          "text": [
            "*** Feature extraction started ***\n"
          ]
        },
        {
          "output_type": "stream",
          "name": "stderr",
          "text": [
            "/content/vkr_function.py:79: UserWarning: Using default sampling frequency set in configuration file.\n",
            "  X = tsfel.time_series_features_extractor(cfg_file, s)\n"
          ]
        },
        {
          "output_type": "display_data",
          "data": {
            "text/plain": [
              "<IPython.core.display.HTML object>"
            ],
            "text/html": [
              "\n",
              "              <p>\n",
              "                  Progress: 100% Complete\n",
              "              <p/>\n",
              "              <progress\n",
              "                  value='3915'\n",
              "                  max='3915',\n",
              "                  style='width: 25%',\n",
              "              >\n",
              "                  3915\n",
              "              </progress>\n",
              "\n",
              "    "
            ]
          },
          "metadata": {}
        },
        {
          "output_type": "stream",
          "name": "stdout",
          "text": [
            "\n",
            "*** Feature extraction finished ***\n"
          ]
        }
      ]
    },
    {
      "cell_type": "code",
      "source": [
        "nX_dw = my_features_extraction(sig_dw_rol)"
      ],
      "metadata": {
        "id": "g665CGf8uvsG",
        "outputId": "7bf16a67-1a90-46fc-de30-32c0caaaf654",
        "colab": {
          "base_uri": "https://localhost:8080/",
          "height": 157
        }
      },
      "execution_count": 28,
      "outputs": [
        {
          "output_type": "stream",
          "name": "stdout",
          "text": [
            "*** Feature extraction started ***\n"
          ]
        },
        {
          "output_type": "stream",
          "name": "stderr",
          "text": [
            "/content/vkr_function.py:79: UserWarning: Using default sampling frequency set in configuration file.\n",
            "  X = tsfel.time_series_features_extractor(cfg_file, s)\n"
          ]
        },
        {
          "output_type": "display_data",
          "data": {
            "text/plain": [
              "<IPython.core.display.HTML object>"
            ],
            "text/html": [
              "\n",
              "              <p>\n",
              "                  Progress: 100% Complete\n",
              "              <p/>\n",
              "              <progress\n",
              "                  value='3915'\n",
              "                  max='3915',\n",
              "                  style='width: 25%',\n",
              "              >\n",
              "                  3915\n",
              "              </progress>\n",
              "\n",
              "    "
            ]
          },
          "metadata": {}
        },
        {
          "output_type": "stream",
          "name": "stdout",
          "text": [
            "\n",
            "*** Feature extraction finished ***\n"
          ]
        }
      ]
    },
    {
      "cell_type": "code",
      "source": [
        "print(len(nX_up[0]))\n",
        "print(len(nX_dw[0]))"
      ],
      "metadata": {
        "id": "cXLdnJtGuzpm",
        "outputId": "9cf84e5b-4957-4fd6-d300-ce705f8478e3",
        "colab": {
          "base_uri": "https://localhost:8080/"
        }
      },
      "execution_count": 29,
      "outputs": [
        {
          "output_type": "stream",
          "name": "stdout",
          "text": [
            "176\n",
            "214\n"
          ]
        }
      ]
    },
    {
      "cell_type": "code",
      "source": [
        "X = np.hstack([nX_up, nX_dw])"
      ],
      "metadata": {
        "id": "ywoJihUku4sG"
      },
      "execution_count": 30,
      "outputs": []
    },
    {
      "cell_type": "code",
      "source": [
        "X_tsfel_rol = pd.DataFrame(X)\n",
        "X_tsfel_rol.to_csv('/content/X_tsfel_rol.csv', index=False)"
      ],
      "metadata": {
        "id": "yDQhmIylu5lU"
      },
      "execution_count": 31,
      "outputs": []
    }
  ],
  "metadata": {
    "accelerator": "TPU",
    "colab": {
      "provenance": [],
      "mount_file_id": "18k3pgDYnLCo-M4rcE-du26bcOTxEQEDO",
      "authorship_tag": "ABX9TyNrkyjrl33yQYddNXaMfiZK",
      "include_colab_link": true
    },
    "kernelspec": {
      "display_name": "Python 3",
      "name": "python3"
    },
    "language_info": {
      "name": "python"
    }
  },
  "nbformat": 4,
  "nbformat_minor": 0
}