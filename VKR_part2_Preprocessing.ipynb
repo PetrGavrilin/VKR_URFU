{
  "cells": [
    {
      "cell_type": "markdown",
      "metadata": {
        "id": "view-in-github",
        "colab_type": "text"
      },
      "source": [
        "<a href=\"https://colab.research.google.com/github/PetrGavrilin/VKR_URFU/blob/main/VKR_part2_Preprocessing.ipynb\" target=\"_parent\"><img src=\"https://colab.research.google.com/assets/colab-badge.svg\" alt=\"Open In Colab\"/></a>"
      ]
    },
    {
      "cell_type": "markdown",
      "metadata": {
        "id": "vLwZ3ndmVVQD"
      },
      "source": [
        "<h1>Подготовка данных</h1>"
      ]
    },
    {
      "cell_type": "code",
      "execution_count": 1,
      "metadata": {
        "id": "qEbT5fWTo1Uw"
      },
      "outputs": [],
      "source": [
        "try:\n",
        "  import tsfel\n",
        "except:\n",
        "  !pip install tsfel >/dev/null 2>&1\n",
        "  import tsfel"
      ]
    },
    {
      "cell_type": "code",
      "execution_count": 2,
      "metadata": {
        "id": "EgNSqVVJVXS6"
      },
      "outputs": [],
      "source": [
        "# импорт необходимых библиотек\n",
        "import pandas as pd\n",
        "import numpy as np\n",
        "from scipy.signal import savgol_filter"
      ]
    },
    {
      "cell_type": "code",
      "source": [
        "import sys\n",
        "sys.path.append('/content')\n",
        "\n",
        "from vkr_function import my_features_extraction"
      ],
      "metadata": {
        "id": "Iwed62SgOvyh"
      },
      "execution_count": 3,
      "outputs": []
    },
    {
      "cell_type": "code",
      "source": [
        "#Y = pd.read_csv('/content/flow_rate.csv')\n",
        "sig_up = pd.read_csv('/content/sig_up.csv')\n",
        "sig_dw = pd.read_csv('/content/sig_dw.csv')\n",
        "#borders = pd.read_csv('/content/borders.csv').values.tolist()[0]"
      ],
      "metadata": {
        "id": "wfH8Fj6lVUbz"
      },
      "execution_count": 6,
      "outputs": []
    },
    {
      "cell_type": "code",
      "source": [
        "nX_up = my_features_extraction(sig_up)"
      ],
      "metadata": {
        "colab": {
          "base_uri": "https://localhost:8080/",
          "height": 156
        },
        "id": "pHUh_9vLREfO",
        "outputId": "51520a50-9d2a-4073-de7a-14036ed678a9"
      },
      "execution_count": 7,
      "outputs": [
        {
          "output_type": "stream",
          "name": "stdout",
          "text": [
            "*** Feature extraction started ***\n"
          ]
        },
        {
          "output_type": "stream",
          "name": "stderr",
          "text": [
            "/content/vkr_function.py:79: UserWarning: Using default sampling frequency set in configuration file.\n",
            "  X = tsfel.time_series_features_extractor(cfg_file, s)\n"
          ]
        },
        {
          "output_type": "display_data",
          "data": {
            "text/plain": [
              "<IPython.core.display.HTML object>"
            ],
            "text/html": [
              "\n",
              "              <p>\n",
              "                  Progress: 100% Complete\n",
              "              <p/>\n",
              "              <progress\n",
              "                  value='3915'\n",
              "                  max='3915',\n",
              "                  style='width: 25%',\n",
              "              >\n",
              "                  3915\n",
              "              </progress>\n",
              "\n",
              "    "
            ]
          },
          "metadata": {}
        },
        {
          "output_type": "stream",
          "name": "stdout",
          "text": [
            "\n",
            "*** Feature extraction finished ***\n"
          ]
        }
      ]
    },
    {
      "cell_type": "code",
      "source": [
        "nX_dw = my_features_extraction(sig_dw)"
      ],
      "metadata": {
        "colab": {
          "base_uri": "https://localhost:8080/",
          "height": 156
        },
        "id": "eadmdFIHRWKS",
        "outputId": "409567b3-89e8-4026-dd3b-9ed2da7a97f6"
      },
      "execution_count": 8,
      "outputs": [
        {
          "output_type": "stream",
          "name": "stdout",
          "text": [
            "*** Feature extraction started ***\n"
          ]
        },
        {
          "output_type": "stream",
          "name": "stderr",
          "text": [
            "/content/vkr_function.py:79: UserWarning: Using default sampling frequency set in configuration file.\n",
            "  X = tsfel.time_series_features_extractor(cfg_file, s)\n"
          ]
        },
        {
          "output_type": "display_data",
          "data": {
            "text/plain": [
              "<IPython.core.display.HTML object>"
            ],
            "text/html": [
              "\n",
              "              <p>\n",
              "                  Progress: 100% Complete\n",
              "              <p/>\n",
              "              <progress\n",
              "                  value='3915'\n",
              "                  max='3915',\n",
              "                  style='width: 25%',\n",
              "              >\n",
              "                  3915\n",
              "              </progress>\n",
              "\n",
              "    "
            ]
          },
          "metadata": {}
        },
        {
          "output_type": "stream",
          "name": "stdout",
          "text": [
            "\n",
            "*** Feature extraction finished ***\n"
          ]
        }
      ]
    },
    {
      "cell_type": "code",
      "source": [
        "print(len(nX_up[0]))\n",
        "print(len(nX_dw[0]))"
      ],
      "metadata": {
        "colab": {
          "base_uri": "https://localhost:8080/"
        },
        "id": "-fJ_FjgOUfWo",
        "outputId": "7a4e56a9-52cc-4928-93d9-d16931265411"
      },
      "execution_count": 9,
      "outputs": [
        {
          "output_type": "stream",
          "name": "stdout",
          "text": [
            "305\n",
            "311\n"
          ]
        }
      ]
    },
    {
      "cell_type": "code",
      "source": [
        "X = np.hstack([nX_up, nX_dw])\n",
        "Y = np.array(Y['Et'])"
      ],
      "metadata": {
        "id": "XfbGj3iPW3sD"
      },
      "execution_count": 10,
      "outputs": []
    },
    {
      "cell_type": "code",
      "source": [
        "#X.tofile('X_tsfel.csv',sep=',')\n",
        "\n",
        "X_tsfel = pd.DataFrame(np.array(X))\n",
        "X_tsfel.to_csv('/content/X_tsfel.csv', index=False)"
      ],
      "metadata": {
        "id": "GmhdwtHylabv"
      },
      "execution_count": 11,
      "outputs": []
    },
    {
      "cell_type": "markdown",
      "source": [
        "Обучение модели на дополнительно обработанных данных с помощью функции Савицкого-Голея"
      ],
      "metadata": {
        "id": "xfzMV-Yu5iCZ"
      }
    },
    {
      "cell_type": "code",
      "source": [
        "sig_up_sg = sig_up.apply(lambda x: savgol_filter(x,30,4), axis=0) # сглаженные сигналы 1-го пьезоэлектрического датчика\n",
        "sig_dw_sg = sig_dw.apply(lambda x: savgol_filter(x,30,4), axis=0) # сглаженные сигналы 2-го пьезоэлектрического датчика"
      ],
      "metadata": {
        "id": "_TFAejFeuIXv"
      },
      "execution_count": 12,
      "outputs": []
    },
    {
      "cell_type": "code",
      "source": [
        "nX_up = my_features_extraction(sig_up_sg)"
      ],
      "metadata": {
        "id": "JHJB-DTkvMnH",
        "colab": {
          "base_uri": "https://localhost:8080/",
          "height": 156
        },
        "outputId": "2442d4a3-8664-45a7-8d04-0b941f604a7b"
      },
      "execution_count": 14,
      "outputs": [
        {
          "output_type": "stream",
          "name": "stdout",
          "text": [
            "*** Feature extraction started ***\n"
          ]
        },
        {
          "output_type": "stream",
          "name": "stderr",
          "text": [
            "/content/vkr_function.py:79: UserWarning: Using default sampling frequency set in configuration file.\n",
            "  X = tsfel.time_series_features_extractor(cfg_file, s)\n"
          ]
        },
        {
          "output_type": "display_data",
          "data": {
            "text/plain": [
              "<IPython.core.display.HTML object>"
            ],
            "text/html": [
              "\n",
              "              <p>\n",
              "                  Progress: 100% Complete\n",
              "              <p/>\n",
              "              <progress\n",
              "                  value='3915'\n",
              "                  max='3915',\n",
              "                  style='width: 25%',\n",
              "              >\n",
              "                  3915\n",
              "              </progress>\n",
              "\n",
              "    "
            ]
          },
          "metadata": {}
        },
        {
          "output_type": "stream",
          "name": "stdout",
          "text": [
            "\n",
            "*** Feature extraction finished ***\n"
          ]
        }
      ]
    },
    {
      "cell_type": "code",
      "source": [
        "nX_dw = my_features_extraction(sig_dw_sg)"
      ],
      "metadata": {
        "colab": {
          "base_uri": "https://localhost:8080/",
          "height": 156
        },
        "id": "vvOneCINUV-3",
        "outputId": "51cbd6ac-d272-472c-9b3d-11737a0399e0"
      },
      "execution_count": 15,
      "outputs": [
        {
          "output_type": "stream",
          "name": "stdout",
          "text": [
            "*** Feature extraction started ***\n"
          ]
        },
        {
          "output_type": "stream",
          "name": "stderr",
          "text": [
            "/content/vkr_function.py:79: UserWarning: Using default sampling frequency set in configuration file.\n",
            "  X = tsfel.time_series_features_extractor(cfg_file, s)\n"
          ]
        },
        {
          "output_type": "display_data",
          "data": {
            "text/plain": [
              "<IPython.core.display.HTML object>"
            ],
            "text/html": [
              "\n",
              "              <p>\n",
              "                  Progress: 100% Complete\n",
              "              <p/>\n",
              "              <progress\n",
              "                  value='3915'\n",
              "                  max='3915',\n",
              "                  style='width: 25%',\n",
              "              >\n",
              "                  3915\n",
              "              </progress>\n",
              "\n",
              "    "
            ]
          },
          "metadata": {}
        },
        {
          "output_type": "stream",
          "name": "stdout",
          "text": [
            "\n",
            "*** Feature extraction finished ***\n"
          ]
        }
      ]
    },
    {
      "cell_type": "code",
      "source": [
        "print(len(nX_up[0]))\n",
        "print(len(nX_dw[0]))"
      ],
      "metadata": {
        "colab": {
          "base_uri": "https://localhost:8080/"
        },
        "id": "SWPvNXQSsGEk",
        "outputId": "38a4157f-0e5a-448c-9df8-5e6f55159194"
      },
      "execution_count": 16,
      "outputs": [
        {
          "output_type": "stream",
          "name": "stdout",
          "text": [
            "235\n",
            "271\n"
          ]
        }
      ]
    },
    {
      "cell_type": "markdown",
      "source": [
        "Осталось гораздо меньше признаков, чем без применения сглаживания"
      ],
      "metadata": {
        "id": "Zn5aJPm66Hr_"
      }
    },
    {
      "cell_type": "code",
      "source": [
        "X = np.hstack([nX_up, nX_dw])"
      ],
      "metadata": {
        "id": "WxrHI4Dswdko"
      },
      "execution_count": 17,
      "outputs": []
    },
    {
      "cell_type": "code",
      "source": [
        "#X.tofile('X_tsfel_savgol.csv',sep=',')\n",
        "\n",
        "X_tsfel_savgol = pd.DataFrame(X)\n",
        "X_tsfel_savgol.to_csv('/content/X_tsfel_savgol.csv', index=False)"
      ],
      "metadata": {
        "id": "iYYIV4CfmO4R"
      },
      "execution_count": 18,
      "outputs": []
    },
    {
      "cell_type": "code",
      "source": [],
      "metadata": {
        "id": "6pkCw7zDGVJM"
      },
      "execution_count": 18,
      "outputs": []
    }
  ],
  "metadata": {
    "accelerator": "TPU",
    "colab": {
      "provenance": [],
      "mount_file_id": "18k3pgDYnLCo-M4rcE-du26bcOTxEQEDO",
      "authorship_tag": "ABX9TyNk6Ch9W3m1JN8KR6ipqjMO",
      "include_colab_link": true
    },
    "kernelspec": {
      "display_name": "Python 3",
      "name": "python3"
    },
    "language_info": {
      "name": "python"
    }
  },
  "nbformat": 4,
  "nbformat_minor": 0
}